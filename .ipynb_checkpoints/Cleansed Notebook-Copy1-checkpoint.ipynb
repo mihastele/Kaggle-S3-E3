{
 "cells": [
  {
   "cell_type": "code",
   "execution_count": 2,
   "id": "029ea819",
   "metadata": {},
   "outputs": [],
   "source": [
    "import torch\n",
    "import torch.nn as nn\n",
    "import torch.nn.functional as F\n",
    "import numpy as np\n",
    "import pandas as pd"
   ]
  },
  {
   "cell_type": "code",
   "execution_count": 3,
   "id": "7e28c54f",
   "metadata": {},
   "outputs": [],
   "source": [
    "df = pd.read_csv('train.csv')\n",
    "dfTest = pd.read_csv('test.csv')\n",
    "dataset = pd.read_csv('train.csv')"
   ]
  },
  {
   "cell_type": "code",
   "execution_count": 4,
   "id": "3af2c18e",
   "metadata": {},
   "outputs": [],
   "source": [
    "assert dataset.isnull().sum().sum() == 0\n",
    "\n",
    "num_col_names = list(dataset.select_dtypes(include='number').columns)\n",
    "cat_col_names = list(set(dataset.columns) - set(num_col_names))"
   ]
  },
  {
   "cell_type": "code",
   "execution_count": 5,
   "id": "8cd5f35f",
   "metadata": {},
   "outputs": [],
   "source": [
    "df = pd.get_dummies(df, columns=cat_col_names)\n",
    "tensor = torch.from_numpy(df.values)"
   ]
  },
  {
   "cell_type": "code",
   "execution_count": 6,
   "id": "99e440eb",
   "metadata": {},
   "outputs": [
    {
     "data": {
      "text/plain": [
       "0          0\n",
       "1          1\n",
       "2          2\n",
       "3          3\n",
       "4          4\n",
       "        ... \n",
       "1672    1672\n",
       "1673    1673\n",
       "1674    1674\n",
       "1675    1675\n",
       "1676    1676\n",
       "Name: id, Length: 1677, dtype: int64"
      ]
     },
     "execution_count": 6,
     "metadata": {},
     "output_type": "execute_result"
    }
   ],
   "source": [
    "df.pop(\"id\")"
   ]
  },
  {
   "cell_type": "code",
   "execution_count": 7,
   "id": "c2d31c12",
   "metadata": {},
   "outputs": [],
   "source": [
    "labels = df.pop(\"Attrition\")"
   ]
  },
  {
   "cell_type": "code",
   "execution_count": 8,
   "id": "9911d182",
   "metadata": {},
   "outputs": [],
   "source": [
    "from torch.utils.data import random_split\n",
    "from torch.utils.data import TensorDataset\n",
    "from sklearn.preprocessing import StandardScaler\n",
    "\n",
    "\n",
    "sca = StandardScaler()\n",
    "df = sca.fit_transform(df)\n",
    "\n",
    "tensor = torch.from_numpy(df)\n",
    "labeltensor = torch.from_numpy(labels.values)\n",
    "\n",
    "dataset = TensorDataset(tensor, labeltensor)\n",
    "\n",
    "\n",
    "train_ratio = 0.85 # ratio of data to be used for training\n",
    "\n",
    "train_len = int(train_ratio * len(dataset))\n",
    "test_len = len(dataset) - train_len\n",
    "\n",
    "train_set, test_set = random_split(dataset, [train_len, test_len])"
   ]
  },
  {
   "cell_type": "code",
   "execution_count": 9,
   "id": "12a81dca",
   "metadata": {},
   "outputs": [],
   "source": [
    "from torch.utils.data import Dataset, DataLoader\n",
    "\n",
    "loader = DataLoader(train_set, batch_size=32, shuffle=True)\n",
    "loaderVal = DataLoader(test_set, batch_size=32, shuffle=True)"
   ]
  },
  {
   "cell_type": "code",
   "execution_count": 10,
   "id": "2fc44136",
   "metadata": {},
   "outputs": [],
   "source": [
    "class MihaNetForSwag(nn.Module):\n",
    "\n",
    "    def __init__(self):\n",
    "        super(MihaNetForSwag, self).__init__()\n",
    "        # an affine operation: y = Wx + b\n",
    "        self.fc1 = nn.Linear(54, 256)\n",
    "        self.fc2 = nn.Linear(256, 64) \n",
    "        self.fc3 = nn.Linear(64, 1)\n",
    "        self.dropout = nn.Dropout(0.33)\n",
    "\n",
    "    def forward(self, x):\n",
    "        x = F.relu(self.fc1(x))\n",
    "        x = self.dropout(x)\n",
    "        x = F.relu(self.fc2(x))\n",
    "        x = torch.sigmoid(self.fc3(x))\n",
    "        return x\n",
    "    \n"
   ]
  },
  {
   "cell_type": "code",
   "execution_count": 11,
   "id": "7c0f57f4",
   "metadata": {},
   "outputs": [
    {
     "name": "stdout",
     "output_type": "stream",
     "text": [
      "Epoch 1/60, Loss: 0.3883\n",
      "Epoch 2/60, Loss: 0.2578\n",
      "Epoch 3/60, Loss: 0.1835\n",
      "Epoch 4/60, Loss: 0.2127\n",
      "Epoch 5/60, Loss: 0.5005\n",
      "Epoch 6/60, Loss: 0.1835\n",
      "Epoch 7/60, Loss: 0.1315\n",
      "Epoch 8/60, Loss: 0.2277\n",
      "Epoch 9/60, Loss: 0.1499\n",
      "Epoch 10/60, Loss: 0.1461\n",
      "Epoch 11/60, Loss: 0.0811\n",
      "Epoch 12/60, Loss: 0.0819\n",
      "Epoch 13/60, Loss: 0.1238\n",
      "Epoch 14/60, Loss: 0.2825\n",
      "Epoch 15/60, Loss: 0.0745\n",
      "Epoch 16/60, Loss: 0.1403\n",
      "Epoch 17/60, Loss: 0.2273\n",
      "Epoch 18/60, Loss: 0.0229\n",
      "Epoch 19/60, Loss: 0.0762\n",
      "Epoch 20/60, Loss: 0.0186\n",
      "Epoch 21/60, Loss: 0.0116\n",
      "Epoch 22/60, Loss: 0.0151\n",
      "Epoch 23/60, Loss: 0.3179\n",
      "Epoch 24/60, Loss: 0.0243\n",
      "Epoch 25/60, Loss: 0.1472\n",
      "Epoch 26/60, Loss: 0.2567\n",
      "Epoch 27/60, Loss: 0.2611\n",
      "Epoch 28/60, Loss: 0.0037\n",
      "Epoch 29/60, Loss: 0.0296\n",
      "Epoch 30/60, Loss: 0.1894\n",
      "Epoch 31/60, Loss: 0.0595\n",
      "Epoch 32/60, Loss: 0.0178\n",
      "Epoch 33/60, Loss: 0.0417\n",
      "Epoch 34/60, Loss: 0.1230\n",
      "Epoch 35/60, Loss: 0.0042\n",
      "Epoch 36/60, Loss: 0.0408\n",
      "Epoch 37/60, Loss: 0.0123\n",
      "Epoch 38/60, Loss: 0.0786\n",
      "Epoch 39/60, Loss: 0.0002\n",
      "Epoch 40/60, Loss: 0.2739\n",
      "Epoch 41/60, Loss: 0.0364\n",
      "Epoch 42/60, Loss: 0.0135\n",
      "Epoch 43/60, Loss: 0.0124\n",
      "Epoch 44/60, Loss: 0.0057\n",
      "Epoch 45/60, Loss: 0.0089\n",
      "Epoch 46/60, Loss: 0.0243\n",
      "Epoch 47/60, Loss: 0.0282\n",
      "Epoch 48/60, Loss: 0.0073\n",
      "Epoch 49/60, Loss: 0.0167\n",
      "Epoch 50/60, Loss: 0.0067\n",
      "Epoch 51/60, Loss: 0.0280\n",
      "Epoch 52/60, Loss: 0.0870\n",
      "Epoch 53/60, Loss: 0.0240\n",
      "Epoch 54/60, Loss: 0.0236\n",
      "Epoch 55/60, Loss: 0.0580\n",
      "Epoch 56/60, Loss: 0.0441\n",
      "Epoch 57/60, Loss: 0.0025\n",
      "Epoch 58/60, Loss: 0.0097\n",
      "Epoch 59/60, Loss: 0.0140\n",
      "Epoch 60/60, Loss: 0.0034\n"
     ]
    }
   ],
   "source": [
    "# set the number of training iterations (epochs)\n",
    "num_epochs = 60\n",
    "#torch.set_grad_enabled(True) \n",
    "\n",
    "model = MihaNetForSwag()\n",
    "optimizer = torch.optim.Adam(model.parameters(),lr=0.001)\n",
    "criterion = nn.BCELoss()\n",
    "\n",
    "# start the training loop\n",
    "for epoch in range(num_epochs):\n",
    "    # loop over the training data in batches\n",
    "    for data, labels in loader:\n",
    "        output = model(data.type(torch.FloatTensor))\n",
    "        loss = criterion(output, labels.reshape(-1,1).type(torch.FloatTensor))\n",
    "        optimizer.zero_grad()\n",
    "        loss.backward()\n",
    "        optimizer.step()\n",
    "\n",
    "    # print the loss at the end of the epoch\n",
    "    print(\"Epoch {}/{}, Loss: {:.4f}\".format(epoch+1, num_epochs, loss.item()))"
   ]
  },
  {
   "cell_type": "code",
   "execution_count": 12,
   "id": "00aa9fbf",
   "metadata": {},
   "outputs": [
    {
     "name": "stdout",
     "output_type": "stream",
     "text": [
      "Validation Loss: 1.0788\n"
     ]
    }
   ],
   "source": [
    "validations = []\n",
    "val_inputs = []\n",
    "\n",
    "\n",
    "for x, y in loaderVal:\n",
    "    for xt in x:\n",
    "        # print(xt)\n",
    "        val_inputs.append(xt.numpy())\n",
    "    for yt in y:\n",
    "        validations.append(yt)\n",
    "\n",
    "# print(val_inputs)\n",
    "        \n",
    "model.eval()\n",
    "out = model.forward(torch.from_numpy(np.array(val_inputs)).type(torch.FloatTensor))\n",
    "val_loss = criterion(out,torch.from_numpy(np.array(validations)).type(torch.FloatTensor).reshape(-1,1)) \n",
    "vl = val_loss\n",
    "\n",
    "print(\"Validation Loss: {:.4f}\".format(vl.item()))\n"
   ]
  },
  {
   "cell_type": "code",
   "execution_count": 13,
   "id": "39b902c7",
   "metadata": {},
   "outputs": [],
   "source": [
    "ids = dfTest.pop(\"id\")"
   ]
  },
  {
   "cell_type": "code",
   "execution_count": 14,
   "id": "a102345c",
   "metadata": {},
   "outputs": [],
   "source": [
    "dfTest = pd.get_dummies(dfTest, columns=cat_col_names)"
   ]
  },
  {
   "cell_type": "code",
   "execution_count": 15,
   "id": "6c39d903",
   "metadata": {},
   "outputs": [],
   "source": [
    "test_setf = sca.transform(dfTest)"
   ]
  },
  {
   "cell_type": "code",
   "execution_count": 16,
   "id": "cba735eb",
   "metadata": {},
   "outputs": [],
   "source": [
    "final = []\n",
    "for data in test_setf:\n",
    "    final.append(model(torch.from_numpy(data).type(torch.FloatTensor)).detach().numpy()[0])"
   ]
  },
  {
   "cell_type": "code",
   "execution_count": 17,
   "id": "69f8114f",
   "metadata": {},
   "outputs": [],
   "source": [
    "\n",
    "Output = pd.DataFrame({'id':ids,'Attrition':final})"
   ]
  },
  {
   "cell_type": "code",
   "execution_count": 18,
   "id": "1d7752fb",
   "metadata": {},
   "outputs": [
    {
     "data": {
      "text/html": [
       "<div>\n",
       "<style scoped>\n",
       "    .dataframe tbody tr th:only-of-type {\n",
       "        vertical-align: middle;\n",
       "    }\n",
       "\n",
       "    .dataframe tbody tr th {\n",
       "        vertical-align: top;\n",
       "    }\n",
       "\n",
       "    .dataframe thead th {\n",
       "        text-align: right;\n",
       "    }\n",
       "</style>\n",
       "<table border=\"1\" class=\"dataframe\">\n",
       "  <thead>\n",
       "    <tr style=\"text-align: right;\">\n",
       "      <th></th>\n",
       "      <th>id</th>\n",
       "      <th>Attrition</th>\n",
       "    </tr>\n",
       "  </thead>\n",
       "  <tbody>\n",
       "    <tr>\n",
       "      <th>0</th>\n",
       "      <td>1677</td>\n",
       "      <td>1.908519e-04</td>\n",
       "    </tr>\n",
       "    <tr>\n",
       "      <th>1</th>\n",
       "      <td>1678</td>\n",
       "      <td>2.304955e-04</td>\n",
       "    </tr>\n",
       "    <tr>\n",
       "      <th>2</th>\n",
       "      <td>1679</td>\n",
       "      <td>2.314597e-07</td>\n",
       "    </tr>\n",
       "    <tr>\n",
       "      <th>3</th>\n",
       "      <td>1680</td>\n",
       "      <td>4.130553e-05</td>\n",
       "    </tr>\n",
       "    <tr>\n",
       "      <th>4</th>\n",
       "      <td>1681</td>\n",
       "      <td>1.700484e-01</td>\n",
       "    </tr>\n",
       "  </tbody>\n",
       "</table>\n",
       "</div>"
      ],
      "text/plain": [
       "     id     Attrition\n",
       "0  1677  1.908519e-04\n",
       "1  1678  2.304955e-04\n",
       "2  1679  2.314597e-07\n",
       "3  1680  4.130553e-05\n",
       "4  1681  1.700484e-01"
      ]
     },
     "execution_count": 18,
     "metadata": {},
     "output_type": "execute_result"
    }
   ],
   "source": [
    "Output.to_csv('Submision.csv',index=False)\n",
    "Output.head()"
   ]
  },
  {
   "cell_type": "code",
   "execution_count": null,
   "id": "f29d0fce",
   "metadata": {},
   "outputs": [],
   "source": []
  }
 ],
 "metadata": {
  "kernelspec": {
   "display_name": "Python 3 (ipykernel)",
   "language": "python",
   "name": "python3"
  },
  "language_info": {
   "codemirror_mode": {
    "name": "ipython",
    "version": 3
   },
   "file_extension": ".py",
   "mimetype": "text/x-python",
   "name": "python",
   "nbconvert_exporter": "python",
   "pygments_lexer": "ipython3",
   "version": "3.9.12"
  }
 },
 "nbformat": 4,
 "nbformat_minor": 5
}
