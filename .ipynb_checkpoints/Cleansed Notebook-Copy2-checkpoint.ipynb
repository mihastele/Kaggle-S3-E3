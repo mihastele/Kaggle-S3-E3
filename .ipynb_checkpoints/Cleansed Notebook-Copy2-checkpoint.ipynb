{
 "cells": [
  {
   "cell_type": "code",
   "execution_count": 1,
   "id": "029ea819",
   "metadata": {},
   "outputs": [],
   "source": [
    "import torch\n",
    "import torch.nn as nn\n",
    "import torch.nn.functional as F\n",
    "import numpy as np\n",
    "import pandas as pd"
   ]
  },
  {
   "cell_type": "code",
   "execution_count": 2,
   "id": "7e28c54f",
   "metadata": {},
   "outputs": [],
   "source": [
    "df = pd.read_csv('train.csv')\n",
    "dfTest = pd.read_csv('test.csv')\n",
    "dataset = pd.read_csv('train.csv')"
   ]
  },
  {
   "cell_type": "code",
   "execution_count": 3,
   "id": "3af2c18e",
   "metadata": {},
   "outputs": [],
   "source": [
    "assert dataset.isnull().sum().sum() == 0\n",
    "\n",
    "num_col_names = list(dataset.select_dtypes(include='number').columns)\n",
    "cat_col_names = list(set(dataset.columns) - set(num_col_names))"
   ]
  },
  {
   "cell_type": "code",
   "execution_count": 4,
   "id": "8cd5f35f",
   "metadata": {},
   "outputs": [],
   "source": [
    "df = pd.get_dummies(df, columns=cat_col_names)\n",
    "tensor = torch.from_numpy(df.values)"
   ]
  },
  {
   "cell_type": "code",
   "execution_count": 5,
   "id": "99e440eb",
   "metadata": {},
   "outputs": [
    {
     "data": {
      "text/plain": [
       "0          0\n",
       "1          1\n",
       "2          2\n",
       "3          3\n",
       "4          4\n",
       "        ... \n",
       "1672    1672\n",
       "1673    1673\n",
       "1674    1674\n",
       "1675    1675\n",
       "1676    1676\n",
       "Name: id, Length: 1677, dtype: int64"
      ]
     },
     "execution_count": 5,
     "metadata": {},
     "output_type": "execute_result"
    }
   ],
   "source": [
    "df.pop(\"id\")"
   ]
  },
  {
   "cell_type": "code",
   "execution_count": 6,
   "id": "c2d31c12",
   "metadata": {},
   "outputs": [],
   "source": [
    "labels = df.pop(\"Attrition\")"
   ]
  },
  {
   "cell_type": "code",
   "execution_count": 7,
   "id": "9911d182",
   "metadata": {},
   "outputs": [],
   "source": [
    "from torch.utils.data import random_split\n",
    "from torch.utils.data import TensorDataset\n",
    "from sklearn.preprocessing import StandardScaler\n",
    "\n",
    "\n",
    "sca = StandardScaler()\n",
    "df = sca.fit_transform(df)\n",
    "\n",
    "tensor = torch.from_numpy(df)\n",
    "labeltensor = torch.from_numpy(labels.values)\n",
    "\n",
    "dataset = TensorDataset(tensor, labeltensor)\n",
    "\n",
    "\n",
    "train_ratio = 0.6 # ratio of data to be used for training\n",
    "\n",
    "train_len = int(train_ratio * len(dataset))\n",
    "test_len = len(dataset) - train_len\n",
    "\n",
    "train_set, test_set = random_split(dataset, [train_len, test_len])"
   ]
  },
  {
   "cell_type": "code",
   "execution_count": 8,
   "id": "12a81dca",
   "metadata": {},
   "outputs": [],
   "source": [
    "from torch.utils.data import Dataset, DataLoader\n",
    "\n",
    "loader = DataLoader(train_set, batch_size=32, shuffle=True)\n",
    "loaderVal = DataLoader(test_set, batch_size=32, shuffle=True)"
   ]
  },
  {
   "cell_type": "code",
   "execution_count": 19,
   "id": "2fc44136",
   "metadata": {},
   "outputs": [],
   "source": [
    "class MihaNetForSwag(nn.Module):\n",
    "\n",
    "    def __init__(self):\n",
    "        super(MihaNetForSwag, self).__init__()\n",
    "        # an affine operation: y = Wx + b\n",
    "        self.fc1 = nn.Linear(54, 256)\n",
    "        self.fc2 = nn.Linear(256, 64) \n",
    "        self.fc3 = nn.Linear(64, 1)\n",
    "        self.dropout = nn.Dropout(0.4)\n",
    "\n",
    "    def forward(self, x):\n",
    "        x = F.relu(self.fc1(x))\n",
    "        x = self.dropout(x)\n",
    "        x = F.relu(self.fc2(x))\n",
    "        x = torch.sigmoid(self.fc3(x))\n",
    "        return x\n",
    "\n",
    "class MihaNetForSwag2(nn.Module):\n",
    "\n",
    "    def __init__(self):\n",
    "        super(MihaNetForSwag2, self).__init__()\n",
    "        # an affine operation: y = Wx + b\n",
    "        self.fc1 = nn.Linear(54, 256)\n",
    "        self.fc2 = nn.Linear(256, 64) \n",
    "        self.fc3 = nn.Linear(64, 1)\n",
    "        self.dropout = nn.Dropout(0.4)\n",
    "        self.dropout2 = nn.Dropout(0.4)\n",
    "\n",
    "    def forward(self, x):\n",
    "        x = F.relu(self.fc1(x))\n",
    "        x = self.dropout(x)\n",
    "        x = F.relu(self.fc2(x))\n",
    "        x = self.dropout2(x)\n",
    "        x = torch.sigmoid(self.fc3(x))\n",
    "        return x\n",
    "\n",
    "\n",
    "    \n",
    "class DeepDropNet(nn.Module):\n",
    "\n",
    "    def __init__(self):\n",
    "        super(DeepDropNet, self).__init__()\n",
    "        # an affine operation: y = Wx + b\n",
    "        self.fc1 = nn.Linear(54, 256)\n",
    "        self.fc2 = nn.Linear(256, 512)\n",
    "        self.fc3 = nn.Linear(512, 512) \n",
    "        self.fc4 = nn.Linear(512, 256) \n",
    "        self.fc5 = nn.Linear(256, 1)\n",
    "        forget_rate = 0.15\n",
    "        self.dropout = nn.Dropout(forget_rate)\n",
    "        self.dropout2 = nn.Dropout(forget_rate)\n",
    "        self.dropout3 = nn.Dropout(forget_rate)\n",
    "        self.dropout4 = nn.Dropout(forget_rate)\n",
    "\n",
    "    def forward(self, x):\n",
    "        x = F.relu(self.fc1(x))\n",
    "        x = self.dropout(x)\n",
    "        x = F.relu(self.fc2(x))\n",
    "        x = self.dropout2(x)\n",
    "        x = F.relu(self.fc3(x))\n",
    "        x = self.dropout3(x)\n",
    "        x = F.relu(self.fc4(x))\n",
    "        x = self.dropout4(x)\n",
    "        x = torch.sigmoid(self.fc5(x))\n",
    "        return x\n",
    "    \n",
    "class SimpleNet(nn.Module):\n",
    "\n",
    "    def __init__(self):\n",
    "        super(SimpleNet, self).__init__()\n",
    "        # an affine operation: y = Wx + b\n",
    "        self.fc1 = nn.Linear(54, 512)\n",
    "        self.fc2 = nn.Linear(512, 1)\n",
    "        self.dropout = nn.Dropout(0.2)\n",
    "\n",
    "    def forward(self, x):\n",
    "        x = F.relu(self.fc1(x))\n",
    "        x = self.dropout(x)\n",
    "        x = torch.sigmoid(self.fc2(x))\n",
    "        return x\n",
    "    \n"
   ]
  },
  {
   "cell_type": "code",
   "execution_count": 20,
   "id": "7c0f57f4",
   "metadata": {},
   "outputs": [
    {
     "name": "stdout",
     "output_type": "stream",
     "text": [
      "Epoch 1/80, Loss: 0.4066\n",
      "Epoch 2/80, Loss: 0.3794\n",
      "Epoch 3/80, Loss: 0.2979\n",
      "Epoch 4/80, Loss: 0.1424\n",
      "Epoch 5/80, Loss: 0.3874\n",
      "Epoch 6/80, Loss: 0.1261\n",
      "Epoch 7/80, Loss: 0.5199\n",
      "Epoch 8/80, Loss: 0.1891\n",
      "Epoch 9/80, Loss: 0.4292\n",
      "Epoch 10/80, Loss: 0.3538\n",
      "Epoch 11/80, Loss: 0.2390\n",
      "Epoch 12/80, Loss: 0.4224\n",
      "Epoch 13/80, Loss: 0.1540\n",
      "Epoch 14/80, Loss: 0.2179\n",
      "Epoch 15/80, Loss: 0.2945\n",
      "Epoch 16/80, Loss: 0.0734\n",
      "Epoch 17/80, Loss: 0.2996\n",
      "Epoch 18/80, Loss: 0.2484\n",
      "Epoch 19/80, Loss: 0.1135\n",
      "Epoch 20/80, Loss: 0.2623\n",
      "Epoch 21/80, Loss: 0.5002\n",
      "Epoch 22/80, Loss: 0.1180\n",
      "Epoch 23/80, Loss: 0.1000\n",
      "Epoch 24/80, Loss: 0.2697\n",
      "Epoch 25/80, Loss: 0.3248\n",
      "Epoch 26/80, Loss: 0.1371\n",
      "Epoch 27/80, Loss: 0.0810\n",
      "Epoch 28/80, Loss: 0.1686\n",
      "Epoch 29/80, Loss: 0.1938\n",
      "Epoch 30/80, Loss: 0.1289\n",
      "Epoch 31/80, Loss: 0.1032\n",
      "Epoch 32/80, Loss: 0.0475\n",
      "Epoch 33/80, Loss: 0.2673\n",
      "Epoch 34/80, Loss: 0.2001\n",
      "Epoch 35/80, Loss: 0.3375\n",
      "Epoch 36/80, Loss: 0.2037\n",
      "Epoch 37/80, Loss: 0.1082\n",
      "Epoch 38/80, Loss: 0.5455\n",
      "Epoch 39/80, Loss: 0.0721\n",
      "Epoch 40/80, Loss: 0.3749\n",
      "Epoch 41/80, Loss: 0.2271\n",
      "Epoch 42/80, Loss: 0.1110\n",
      "Epoch 43/80, Loss: 0.1761\n",
      "Epoch 44/80, Loss: 0.0529\n",
      "Epoch 45/80, Loss: 0.1407\n",
      "Epoch 46/80, Loss: 0.2027\n",
      "Epoch 47/80, Loss: 0.1136\n",
      "Epoch 48/80, Loss: 0.0757\n",
      "Epoch 49/80, Loss: 0.1428\n",
      "Epoch 50/80, Loss: 0.1348\n",
      "Epoch 51/80, Loss: 0.1189\n",
      "Epoch 52/80, Loss: 0.1842\n",
      "Epoch 53/80, Loss: 0.2232\n",
      "Epoch 54/80, Loss: 0.1107\n",
      "Epoch 55/80, Loss: 0.1249\n",
      "Epoch 56/80, Loss: 0.0972\n",
      "Epoch 57/80, Loss: 0.0777\n",
      "Epoch 58/80, Loss: 0.0542\n",
      "Epoch 59/80, Loss: 0.1645\n",
      "Epoch 60/80, Loss: 0.1430\n",
      "Epoch 61/80, Loss: 0.2446\n",
      "Epoch 62/80, Loss: 0.0980\n",
      "Epoch 63/80, Loss: 0.1671\n",
      "Epoch 64/80, Loss: 0.0861\n",
      "Epoch 65/80, Loss: 0.0624\n",
      "Epoch 66/80, Loss: 0.0479\n",
      "Epoch 67/80, Loss: 0.2840\n",
      "Epoch 68/80, Loss: 0.0839\n",
      "Epoch 69/80, Loss: 0.0772\n",
      "Epoch 70/80, Loss: 0.0667\n",
      "Epoch 71/80, Loss: 0.2629\n",
      "Epoch 72/80, Loss: 0.0446\n",
      "Epoch 73/80, Loss: 0.0837\n",
      "Epoch 74/80, Loss: 0.2313\n",
      "Epoch 75/80, Loss: 0.0840\n",
      "Epoch 76/80, Loss: 0.2159\n",
      "Epoch 77/80, Loss: 0.0777\n",
      "Epoch 78/80, Loss: 0.0774\n",
      "Epoch 79/80, Loss: 0.1014\n",
      "Epoch 80/80, Loss: 0.2335\n"
     ]
    }
   ],
   "source": [
    "# set the number of training iterations (epochs)\n",
    "num_epochs = 80\n",
    "#torch.set_grad_enabled(True) \n",
    "\n",
    "model = SimpleNet()\n",
    "optimizer = torch.optim.Adam(model.parameters(),lr=0.0002)\n",
    "criterion = nn.BCELoss()\n",
    "\n",
    "# start the training loop\n",
    "for epoch in range(num_epochs):\n",
    "    # loop over the training data in batches\n",
    "    for data, labels in loader:\n",
    "        output = model(data.type(torch.FloatTensor))\n",
    "        loss = criterion(output, labels.reshape(-1,1).type(torch.FloatTensor))\n",
    "        optimizer.zero_grad()\n",
    "        loss.backward()\n",
    "        optimizer.step()\n",
    "\n",
    "    # print the loss at the end of the epoch\n",
    "    print(\"Epoch {}/{}, Loss: {:.4f}\".format(epoch+1, num_epochs, loss.item()))"
   ]
  },
  {
   "cell_type": "code",
   "execution_count": 21,
   "id": "00aa9fbf",
   "metadata": {},
   "outputs": [
    {
     "name": "stdout",
     "output_type": "stream",
     "text": [
      "Validation Loss: 0.3903\n"
     ]
    }
   ],
   "source": [
    "validations = []\n",
    "val_inputs = []\n",
    "\n",
    "\n",
    "for x, y in loaderVal:\n",
    "    for xt in x:\n",
    "        # print(xt)\n",
    "        val_inputs.append(xt.numpy())\n",
    "    for yt in y:\n",
    "        validations.append(yt)\n",
    "\n",
    "# print(val_inputs)\n",
    "        \n",
    "model.eval()\n",
    "out = model.forward(torch.from_numpy(np.array(val_inputs)).type(torch.FloatTensor))\n",
    "val_loss = criterion(out,torch.from_numpy(np.array(validations)).type(torch.FloatTensor).reshape(-1,1)) \n",
    "vl = val_loss\n",
    "\n",
    "print(\"Validation Loss: {:.4f}\".format(vl.item()))\n"
   ]
  },
  {
   "cell_type": "code",
   "execution_count": 12,
   "id": "39b902c7",
   "metadata": {},
   "outputs": [],
   "source": [
    "ids = dfTest.pop(\"id\")"
   ]
  },
  {
   "cell_type": "code",
   "execution_count": 13,
   "id": "a102345c",
   "metadata": {},
   "outputs": [],
   "source": [
    "dfTest = pd.get_dummies(dfTest, columns=cat_col_names)"
   ]
  },
  {
   "cell_type": "code",
   "execution_count": 23,
   "id": "6c39d903",
   "metadata": {},
   "outputs": [],
   "source": [
    "test_setf = sca.transform(dfTest)"
   ]
  },
  {
   "cell_type": "code",
   "execution_count": 24,
   "id": "cba735eb",
   "metadata": {},
   "outputs": [],
   "source": [
    "final = []\n",
    "for data in test_setf:\n",
    "    final.append(model(torch.from_numpy(data).type(torch.FloatTensor)).detach().numpy()[0])"
   ]
  },
  {
   "cell_type": "code",
   "execution_count": 25,
   "id": "69f8114f",
   "metadata": {},
   "outputs": [],
   "source": [
    "\n",
    "Output = pd.DataFrame({'id':ids,'Attrition':final})"
   ]
  },
  {
   "cell_type": "code",
   "execution_count": 26,
   "id": "1d7752fb",
   "metadata": {},
   "outputs": [
    {
     "data": {
      "text/html": [
       "<div>\n",
       "<style scoped>\n",
       "    .dataframe tbody tr th:only-of-type {\n",
       "        vertical-align: middle;\n",
       "    }\n",
       "\n",
       "    .dataframe tbody tr th {\n",
       "        vertical-align: top;\n",
       "    }\n",
       "\n",
       "    .dataframe thead th {\n",
       "        text-align: right;\n",
       "    }\n",
       "</style>\n",
       "<table border=\"1\" class=\"dataframe\">\n",
       "  <thead>\n",
       "    <tr style=\"text-align: right;\">\n",
       "      <th></th>\n",
       "      <th>id</th>\n",
       "      <th>Attrition</th>\n",
       "    </tr>\n",
       "  </thead>\n",
       "  <tbody>\n",
       "    <tr>\n",
       "      <th>0</th>\n",
       "      <td>1677</td>\n",
       "      <td>0.035128</td>\n",
       "    </tr>\n",
       "    <tr>\n",
       "      <th>1</th>\n",
       "      <td>1678</td>\n",
       "      <td>0.047583</td>\n",
       "    </tr>\n",
       "    <tr>\n",
       "      <th>2</th>\n",
       "      <td>1679</td>\n",
       "      <td>0.004152</td>\n",
       "    </tr>\n",
       "    <tr>\n",
       "      <th>3</th>\n",
       "      <td>1680</td>\n",
       "      <td>0.190062</td>\n",
       "    </tr>\n",
       "    <tr>\n",
       "      <th>4</th>\n",
       "      <td>1681</td>\n",
       "      <td>0.367126</td>\n",
       "    </tr>\n",
       "  </tbody>\n",
       "</table>\n",
       "</div>"
      ],
      "text/plain": [
       "     id  Attrition\n",
       "0  1677   0.035128\n",
       "1  1678   0.047583\n",
       "2  1679   0.004152\n",
       "3  1680   0.190062\n",
       "4  1681   0.367126"
      ]
     },
     "execution_count": 26,
     "metadata": {},
     "output_type": "execute_result"
    }
   ],
   "source": [
    "Output.to_csv('Submision.csv',index=False)\n",
    "Output.head()"
   ]
  },
  {
   "cell_type": "code",
   "execution_count": 22,
   "id": "f29d0fce",
   "metadata": {},
   "outputs": [],
   "source": [
    "# Be careful to overwrite our original name file!\n",
    "model_name = 'simplenet.net'\n",
    "torch.save(model.state_dict(),model_name)"
   ]
  }
 ],
 "metadata": {
  "kernelspec": {
   "display_name": "Python 3 (ipykernel)",
   "language": "python",
   "name": "python3"
  },
  "language_info": {
   "codemirror_mode": {
    "name": "ipython",
    "version": 3
   },
   "file_extension": ".py",
   "mimetype": "text/x-python",
   "name": "python",
   "nbconvert_exporter": "python",
   "pygments_lexer": "ipython3",
   "version": "3.9.12"
  }
 },
 "nbformat": 4,
 "nbformat_minor": 5
}
